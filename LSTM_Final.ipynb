{
  "cells": [
    {
      "cell_type": "markdown",
      "metadata": {
        "id": "Mbzk7LEBFvMW"
      },
      "source": [
        "### Stock Market Prediction And Forecasting Using Stacked LSTM"
      ]
    },
    {
      "cell_type": "code",
      "execution_count": 44,
      "metadata": {
        "id": "HXwyMIn-FvMa"
      },
      "outputs": [],
      "source": [
        "### Keras and Tensorflow >2.0\n",
        "import tensorflow as tf\n",
        "from keras.models import load_model\n",
        "import pandas as pd\n",
        "import numpy as np\n",
        "import matplotlib.pyplot as plt\n",
        "from sklearn.preprocessing import MinMaxScaler\n",
        "import math\n",
        "from sklearn.metrics import mean_squared_error"
      ]
    },
    {
      "cell_type": "code",
      "execution_count": 45,
      "metadata": {
        "colab": {
          "base_uri": "https://localhost:8080/",
          "height": 250
        },
        "id": "ZEntQ77JFvMn",
        "outputId": "9a5474e7-8d6e-4a06-d8ed-1cadf8e6f96b"
      },
      "outputs": [
        {
          "output_type": "execute_result",
          "data": {
            "text/html": [
              "\n",
              "  <div id=\"df-547b97f4-dd52-45b8-a181-877eec84b6a9\">\n",
              "    <div class=\"colab-df-container\">\n",
              "      <div>\n",
              "<style scoped>\n",
              "    .dataframe tbody tr th:only-of-type {\n",
              "        vertical-align: middle;\n",
              "    }\n",
              "\n",
              "    .dataframe tbody tr th {\n",
              "        vertical-align: top;\n",
              "    }\n",
              "\n",
              "    .dataframe thead th {\n",
              "        text-align: right;\n",
              "    }\n",
              "</style>\n",
              "<table border=\"1\" class=\"dataframe\">\n",
              "  <thead>\n",
              "    <tr style=\"text-align: right;\">\n",
              "      <th></th>\n",
              "      <th>Date</th>\n",
              "      <th>High</th>\n",
              "      <th>Low</th>\n",
              "      <th>Open</th>\n",
              "      <th>Close</th>\n",
              "      <th>Volume</th>\n",
              "      <th>Adj Close</th>\n",
              "      <th>Return</th>\n",
              "      <th>Change</th>\n",
              "      <th>Volatility</th>\n",
              "      <th>MA7</th>\n",
              "      <th>MA21</th>\n",
              "      <th>Momentum</th>\n",
              "      <th>MACD</th>\n",
              "      <th>Signal</th>\n",
              "      <th>Upper_band</th>\n",
              "      <th>Lower_band</th>\n",
              "    </tr>\n",
              "  </thead>\n",
              "  <tbody>\n",
              "    <tr>\n",
              "      <th>0</th>\n",
              "      <td>2017-02-21</td>\n",
              "      <td>104.466667</td>\n",
              "      <td>102.066666</td>\n",
              "      <td>102.666664</td>\n",
              "      <td>103.066666</td>\n",
              "      <td>5097706.0</td>\n",
              "      <td>94.434799</td>\n",
              "      <td>0.004</td>\n",
              "      <td>0.766663</td>\n",
              "      <td>5.967566</td>\n",
              "      <td>102.800000</td>\n",
              "      <td>97.625397</td>\n",
              "      <td>99.233330</td>\n",
              "      <td>4.046455</td>\n",
              "      <td>4.068695</td>\n",
              "      <td>110.611576</td>\n",
              "      <td>84.639217</td>\n",
              "    </tr>\n",
              "    <tr>\n",
              "      <th>1</th>\n",
              "      <td>2017-02-22</td>\n",
              "      <td>105.266663</td>\n",
              "      <td>102.599998</td>\n",
              "      <td>103.933334</td>\n",
              "      <td>102.866669</td>\n",
              "      <td>9082795.0</td>\n",
              "      <td>94.251541</td>\n",
              "      <td>-0.010</td>\n",
              "      <td>-0.199997</td>\n",
              "      <td>5.830396</td>\n",
              "      <td>102.719048</td>\n",
              "      <td>98.450794</td>\n",
              "      <td>99.233330</td>\n",
              "      <td>3.885545</td>\n",
              "      <td>4.032065</td>\n",
              "      <td>110.368430</td>\n",
              "      <td>86.533157</td>\n",
              "    </tr>\n",
              "    <tr>\n",
              "      <th>2</th>\n",
              "      <td>2017-02-23</td>\n",
              "      <td>103.833336</td>\n",
              "      <td>101.666664</td>\n",
              "      <td>102.833336</td>\n",
              "      <td>102.300003</td>\n",
              "      <td>13964640.0</td>\n",
              "      <td>93.732346</td>\n",
              "      <td>-0.005</td>\n",
              "      <td>-0.566666</td>\n",
              "      <td>5.670885</td>\n",
              "      <td>102.342857</td>\n",
              "      <td>99.139683</td>\n",
              "      <td>99.300003</td>\n",
              "      <td>3.669993</td>\n",
              "      <td>3.959651</td>\n",
              "      <td>110.114840</td>\n",
              "      <td>88.164525</td>\n",
              "    </tr>\n",
              "    <tr>\n",
              "      <th>3</th>\n",
              "      <td>2017-02-27</td>\n",
              "      <td>103.266663</td>\n",
              "      <td>101.233330</td>\n",
              "      <td>102.000000</td>\n",
              "      <td>101.866669</td>\n",
              "      <td>4069939.0</td>\n",
              "      <td>93.335289</td>\n",
              "      <td>-0.001</td>\n",
              "      <td>-0.433334</td>\n",
              "      <td>5.502658</td>\n",
              "      <td>102.409524</td>\n",
              "      <td>99.803175</td>\n",
              "      <td>100.066666</td>\n",
              "      <td>3.424722</td>\n",
              "      <td>3.852665</td>\n",
              "      <td>109.548737</td>\n",
              "      <td>90.057612</td>\n",
              "    </tr>\n",
              "    <tr>\n",
              "      <th>4</th>\n",
              "      <td>2017-02-28</td>\n",
              "      <td>109.199997</td>\n",
              "      <td>101.533333</td>\n",
              "      <td>101.533333</td>\n",
              "      <td>108.300003</td>\n",
              "      <td>16553127.0</td>\n",
              "      <td>99.229836</td>\n",
              "      <td>0.067</td>\n",
              "      <td>6.433334</td>\n",
              "      <td>5.742256</td>\n",
              "      <td>103.276192</td>\n",
              "      <td>100.528572</td>\n",
              "      <td>99.866669</td>\n",
              "      <td>3.706730</td>\n",
              "      <td>3.823478</td>\n",
              "      <td>110.434583</td>\n",
              "      <td>90.622561</td>\n",
              "    </tr>\n",
              "  </tbody>\n",
              "</table>\n",
              "</div>\n",
              "      <button class=\"colab-df-convert\" onclick=\"convertToInteractive('df-547b97f4-dd52-45b8-a181-877eec84b6a9')\"\n",
              "              title=\"Convert this dataframe to an interactive table.\"\n",
              "              style=\"display:none;\">\n",
              "        \n",
              "  <svg xmlns=\"http://www.w3.org/2000/svg\" height=\"24px\"viewBox=\"0 0 24 24\"\n",
              "       width=\"24px\">\n",
              "    <path d=\"M0 0h24v24H0V0z\" fill=\"none\"/>\n",
              "    <path d=\"M18.56 5.44l.94 2.06.94-2.06 2.06-.94-2.06-.94-.94-2.06-.94 2.06-2.06.94zm-11 1L8.5 8.5l.94-2.06 2.06-.94-2.06-.94L8.5 2.5l-.94 2.06-2.06.94zm10 10l.94 2.06.94-2.06 2.06-.94-2.06-.94-.94-2.06-.94 2.06-2.06.94z\"/><path d=\"M17.41 7.96l-1.37-1.37c-.4-.4-.92-.59-1.43-.59-.52 0-1.04.2-1.43.59L10.3 9.45l-7.72 7.72c-.78.78-.78 2.05 0 2.83L4 21.41c.39.39.9.59 1.41.59.51 0 1.02-.2 1.41-.59l7.78-7.78 2.81-2.81c.8-.78.8-2.07 0-2.86zM5.41 20L4 18.59l7.72-7.72 1.47 1.35L5.41 20z\"/>\n",
              "  </svg>\n",
              "      </button>\n",
              "      \n",
              "  <style>\n",
              "    .colab-df-container {\n",
              "      display:flex;\n",
              "      flex-wrap:wrap;\n",
              "      gap: 12px;\n",
              "    }\n",
              "\n",
              "    .colab-df-convert {\n",
              "      background-color: #E8F0FE;\n",
              "      border: none;\n",
              "      border-radius: 50%;\n",
              "      cursor: pointer;\n",
              "      display: none;\n",
              "      fill: #1967D2;\n",
              "      height: 32px;\n",
              "      padding: 0 0 0 0;\n",
              "      width: 32px;\n",
              "    }\n",
              "\n",
              "    .colab-df-convert:hover {\n",
              "      background-color: #E2EBFA;\n",
              "      box-shadow: 0px 1px 2px rgba(60, 64, 67, 0.3), 0px 1px 3px 1px rgba(60, 64, 67, 0.15);\n",
              "      fill: #174EA6;\n",
              "    }\n",
              "\n",
              "    [theme=dark] .colab-df-convert {\n",
              "      background-color: #3B4455;\n",
              "      fill: #D2E3FC;\n",
              "    }\n",
              "\n",
              "    [theme=dark] .colab-df-convert:hover {\n",
              "      background-color: #434B5C;\n",
              "      box-shadow: 0px 1px 3px 1px rgba(0, 0, 0, 0.15);\n",
              "      filter: drop-shadow(0px 1px 2px rgba(0, 0, 0, 0.3));\n",
              "      fill: #FFFFFF;\n",
              "    }\n",
              "  </style>\n",
              "\n",
              "      <script>\n",
              "        const buttonEl =\n",
              "          document.querySelector('#df-547b97f4-dd52-45b8-a181-877eec84b6a9 button.colab-df-convert');\n",
              "        buttonEl.style.display =\n",
              "          google.colab.kernel.accessAllowed ? 'block' : 'none';\n",
              "\n",
              "        async function convertToInteractive(key) {\n",
              "          const element = document.querySelector('#df-547b97f4-dd52-45b8-a181-877eec84b6a9');\n",
              "          const dataTable =\n",
              "            await google.colab.kernel.invokeFunction('convertToInteractive',\n",
              "                                                     [key], {});\n",
              "          if (!dataTable) return;\n",
              "\n",
              "          const docLinkHtml = 'Like what you see? Visit the ' +\n",
              "            '<a target=\"_blank\" href=https://colab.research.google.com/notebooks/data_table.ipynb>data table notebook</a>'\n",
              "            + ' to learn more about interactive tables.';\n",
              "          element.innerHTML = '';\n",
              "          dataTable['output_type'] = 'display_data';\n",
              "          await google.colab.output.renderOutput(dataTable, element);\n",
              "          const docLink = document.createElement('div');\n",
              "          docLink.innerHTML = docLinkHtml;\n",
              "          element.appendChild(docLink);\n",
              "        }\n",
              "      </script>\n",
              "    </div>\n",
              "  </div>\n",
              "  "
            ],
            "text/plain": [
              "         Date        High         Low  ...    Signal  Upper_band  Lower_band\n",
              "0  2017-02-21  104.466667  102.066666  ...  4.068695  110.611576   84.639217\n",
              "1  2017-02-22  105.266663  102.599998  ...  4.032065  110.368430   86.533157\n",
              "2  2017-02-23  103.833336  101.666664  ...  3.959651  110.114840   88.164525\n",
              "3  2017-02-27  103.266663  101.233330  ...  3.852665  109.548737   90.057612\n",
              "4  2017-02-28  109.199997  101.533333  ...  3.823478  110.434583   90.622561\n",
              "\n",
              "[5 rows x 17 columns]"
            ]
          },
          "metadata": {},
          "execution_count": 45
        }
      ],
      "source": [
        "df=pd.read_csv('bhel.csv')\n",
        "df.head()"
      ]
    },
    {
      "cell_type": "code",
      "execution_count": 46,
      "metadata": {
        "colab": {
          "base_uri": "https://localhost:8080/",
          "height": 250
        },
        "id": "9Z4ob0GRFvMp",
        "outputId": "0b043b6b-2ad6-479a-83eb-6a3f3536b06e"
      },
      "outputs": [
        {
          "output_type": "execute_result",
          "data": {
            "text/html": [
              "\n",
              "  <div id=\"df-331929a2-e246-4629-a8e8-d02cae2c8296\">\n",
              "    <div class=\"colab-df-container\">\n",
              "      <div>\n",
              "<style scoped>\n",
              "    .dataframe tbody tr th:only-of-type {\n",
              "        vertical-align: middle;\n",
              "    }\n",
              "\n",
              "    .dataframe tbody tr th {\n",
              "        vertical-align: top;\n",
              "    }\n",
              "\n",
              "    .dataframe thead th {\n",
              "        text-align: right;\n",
              "    }\n",
              "</style>\n",
              "<table border=\"1\" class=\"dataframe\">\n",
              "  <thead>\n",
              "    <tr style=\"text-align: right;\">\n",
              "      <th></th>\n",
              "      <th>Date</th>\n",
              "      <th>High</th>\n",
              "      <th>Low</th>\n",
              "      <th>Open</th>\n",
              "      <th>Close</th>\n",
              "      <th>Volume</th>\n",
              "      <th>Adj Close</th>\n",
              "      <th>Return</th>\n",
              "      <th>Change</th>\n",
              "      <th>Volatility</th>\n",
              "      <th>MA7</th>\n",
              "      <th>MA21</th>\n",
              "      <th>Momentum</th>\n",
              "      <th>MACD</th>\n",
              "      <th>Signal</th>\n",
              "      <th>Upper_band</th>\n",
              "      <th>Lower_band</th>\n",
              "    </tr>\n",
              "  </thead>\n",
              "  <tbody>\n",
              "    <tr>\n",
              "      <th>1211</th>\n",
              "      <td>2022-01-17</td>\n",
              "      <td>64.599998</td>\n",
              "      <td>63.549999</td>\n",
              "      <td>64.050003</td>\n",
              "      <td>63.849998</td>\n",
              "      <td>24887809.0</td>\n",
              "      <td>63.849998</td>\n",
              "      <td>-0.003</td>\n",
              "      <td>0.149998</td>\n",
              "      <td>3.685784</td>\n",
              "      <td>62.378572</td>\n",
              "      <td>59.809524</td>\n",
              "      <td>59.349998</td>\n",
              "      <td>0.454668</td>\n",
              "      <td>-0.221367</td>\n",
              "      <td>64.335407</td>\n",
              "      <td>55.283640</td>\n",
              "    </tr>\n",
              "    <tr>\n",
              "      <th>1212</th>\n",
              "      <td>2022-01-18</td>\n",
              "      <td>64.099998</td>\n",
              "      <td>60.349998</td>\n",
              "      <td>64.000000</td>\n",
              "      <td>60.650002</td>\n",
              "      <td>36833735.0</td>\n",
              "      <td>60.650002</td>\n",
              "      <td>-0.052</td>\n",
              "      <td>-3.199997</td>\n",
              "      <td>3.607062</td>\n",
              "      <td>62.542858</td>\n",
              "      <td>59.983333</td>\n",
              "      <td>59.700001</td>\n",
              "      <td>0.334283</td>\n",
              "      <td>-0.110237</td>\n",
              "      <td>64.332970</td>\n",
              "      <td>55.633697</td>\n",
              "    </tr>\n",
              "    <tr>\n",
              "      <th>1213</th>\n",
              "      <td>2022-01-19</td>\n",
              "      <td>62.000000</td>\n",
              "      <td>60.000000</td>\n",
              "      <td>60.750000</td>\n",
              "      <td>61.849998</td>\n",
              "      <td>24114802.0</td>\n",
              "      <td>61.849998</td>\n",
              "      <td>0.018</td>\n",
              "      <td>1.199997</td>\n",
              "      <td>3.524545</td>\n",
              "      <td>62.428571</td>\n",
              "      <td>60.200000</td>\n",
              "      <td>60.700001</td>\n",
              "      <td>0.331882</td>\n",
              "      <td>-0.021814</td>\n",
              "      <td>64.440165</td>\n",
              "      <td>55.959835</td>\n",
              "    </tr>\n",
              "    <tr>\n",
              "      <th>1214</th>\n",
              "      <td>2022-01-20</td>\n",
              "      <td>62.299999</td>\n",
              "      <td>61.099998</td>\n",
              "      <td>62.000000</td>\n",
              "      <td>61.700001</td>\n",
              "      <td>16346200.0</td>\n",
              "      <td>61.700001</td>\n",
              "      <td>-0.005</td>\n",
              "      <td>-0.149998</td>\n",
              "      <td>3.443568</td>\n",
              "      <td>62.400000</td>\n",
              "      <td>60.357143</td>\n",
              "      <td>60.849998</td>\n",
              "      <td>0.314252</td>\n",
              "      <td>0.045400</td>\n",
              "      <td>64.561580</td>\n",
              "      <td>56.152706</td>\n",
              "    </tr>\n",
              "    <tr>\n",
              "      <th>1215</th>\n",
              "      <td>2022-01-21</td>\n",
              "      <td>62.250000</td>\n",
              "      <td>58.549999</td>\n",
              "      <td>61.400002</td>\n",
              "      <td>60.099998</td>\n",
              "      <td>26622044.0</td>\n",
              "      <td>60.099998</td>\n",
              "      <td>-0.021</td>\n",
              "      <td>-1.600002</td>\n",
              "      <td>3.379403</td>\n",
              "      <td>62.078571</td>\n",
              "      <td>60.416667</td>\n",
              "      <td>57.650002</td>\n",
              "      <td>0.169224</td>\n",
              "      <td>0.070164</td>\n",
              "      <td>64.566526</td>\n",
              "      <td>56.266807</td>\n",
              "    </tr>\n",
              "  </tbody>\n",
              "</table>\n",
              "</div>\n",
              "      <button class=\"colab-df-convert\" onclick=\"convertToInteractive('df-331929a2-e246-4629-a8e8-d02cae2c8296')\"\n",
              "              title=\"Convert this dataframe to an interactive table.\"\n",
              "              style=\"display:none;\">\n",
              "        \n",
              "  <svg xmlns=\"http://www.w3.org/2000/svg\" height=\"24px\"viewBox=\"0 0 24 24\"\n",
              "       width=\"24px\">\n",
              "    <path d=\"M0 0h24v24H0V0z\" fill=\"none\"/>\n",
              "    <path d=\"M18.56 5.44l.94 2.06.94-2.06 2.06-.94-2.06-.94-.94-2.06-.94 2.06-2.06.94zm-11 1L8.5 8.5l.94-2.06 2.06-.94-2.06-.94L8.5 2.5l-.94 2.06-2.06.94zm10 10l.94 2.06.94-2.06 2.06-.94-2.06-.94-.94-2.06-.94 2.06-2.06.94z\"/><path d=\"M17.41 7.96l-1.37-1.37c-.4-.4-.92-.59-1.43-.59-.52 0-1.04.2-1.43.59L10.3 9.45l-7.72 7.72c-.78.78-.78 2.05 0 2.83L4 21.41c.39.39.9.59 1.41.59.51 0 1.02-.2 1.41-.59l7.78-7.78 2.81-2.81c.8-.78.8-2.07 0-2.86zM5.41 20L4 18.59l7.72-7.72 1.47 1.35L5.41 20z\"/>\n",
              "  </svg>\n",
              "      </button>\n",
              "      \n",
              "  <style>\n",
              "    .colab-df-container {\n",
              "      display:flex;\n",
              "      flex-wrap:wrap;\n",
              "      gap: 12px;\n",
              "    }\n",
              "\n",
              "    .colab-df-convert {\n",
              "      background-color: #E8F0FE;\n",
              "      border: none;\n",
              "      border-radius: 50%;\n",
              "      cursor: pointer;\n",
              "      display: none;\n",
              "      fill: #1967D2;\n",
              "      height: 32px;\n",
              "      padding: 0 0 0 0;\n",
              "      width: 32px;\n",
              "    }\n",
              "\n",
              "    .colab-df-convert:hover {\n",
              "      background-color: #E2EBFA;\n",
              "      box-shadow: 0px 1px 2px rgba(60, 64, 67, 0.3), 0px 1px 3px 1px rgba(60, 64, 67, 0.15);\n",
              "      fill: #174EA6;\n",
              "    }\n",
              "\n",
              "    [theme=dark] .colab-df-convert {\n",
              "      background-color: #3B4455;\n",
              "      fill: #D2E3FC;\n",
              "    }\n",
              "\n",
              "    [theme=dark] .colab-df-convert:hover {\n",
              "      background-color: #434B5C;\n",
              "      box-shadow: 0px 1px 3px 1px rgba(0, 0, 0, 0.15);\n",
              "      filter: drop-shadow(0px 1px 2px rgba(0, 0, 0, 0.3));\n",
              "      fill: #FFFFFF;\n",
              "    }\n",
              "  </style>\n",
              "\n",
              "      <script>\n",
              "        const buttonEl =\n",
              "          document.querySelector('#df-331929a2-e246-4629-a8e8-d02cae2c8296 button.colab-df-convert');\n",
              "        buttonEl.style.display =\n",
              "          google.colab.kernel.accessAllowed ? 'block' : 'none';\n",
              "\n",
              "        async function convertToInteractive(key) {\n",
              "          const element = document.querySelector('#df-331929a2-e246-4629-a8e8-d02cae2c8296');\n",
              "          const dataTable =\n",
              "            await google.colab.kernel.invokeFunction('convertToInteractive',\n",
              "                                                     [key], {});\n",
              "          if (!dataTable) return;\n",
              "\n",
              "          const docLinkHtml = 'Like what you see? Visit the ' +\n",
              "            '<a target=\"_blank\" href=https://colab.research.google.com/notebooks/data_table.ipynb>data table notebook</a>'\n",
              "            + ' to learn more about interactive tables.';\n",
              "          element.innerHTML = '';\n",
              "          dataTable['output_type'] = 'display_data';\n",
              "          await google.colab.output.renderOutput(dataTable, element);\n",
              "          const docLink = document.createElement('div');\n",
              "          docLink.innerHTML = docLinkHtml;\n",
              "          element.appendChild(docLink);\n",
              "        }\n",
              "      </script>\n",
              "    </div>\n",
              "  </div>\n",
              "  "
            ],
            "text/plain": [
              "            Date       High        Low  ...    Signal  Upper_band  Lower_band\n",
              "1211  2022-01-17  64.599998  63.549999  ... -0.221367   64.335407   55.283640\n",
              "1212  2022-01-18  64.099998  60.349998  ... -0.110237   64.332970   55.633697\n",
              "1213  2022-01-19  62.000000  60.000000  ... -0.021814   64.440165   55.959835\n",
              "1214  2022-01-20  62.299999  61.099998  ...  0.045400   64.561580   56.152706\n",
              "1215  2022-01-21  62.250000  58.549999  ...  0.070164   64.566526   56.266807\n",
              "\n",
              "[5 rows x 17 columns]"
            ]
          },
          "metadata": {},
          "execution_count": 46
        }
      ],
      "source": [
        "df.tail()"
      ]
    },
    {
      "cell_type": "code",
      "execution_count": 47,
      "metadata": {
        "id": "72rmIEAUFvMr"
      },
      "outputs": [],
      "source": [
        "df1 = df.reset_index()['Close']"
      ]
    },
    {
      "cell_type": "code",
      "execution_count": 48,
      "metadata": {
        "colab": {
          "base_uri": "https://localhost:8080/"
        },
        "id": "DNACgec-FvMt",
        "outputId": "0e6c366c-52d2-4979-dd02-d5a569c6fa56"
      },
      "outputs": [
        {
          "output_type": "execute_result",
          "data": {
            "text/plain": [
              "0       103.066666\n",
              "1       102.866669\n",
              "2       102.300003\n",
              "3       101.866669\n",
              "4       108.300003\n",
              "           ...    \n",
              "1211     63.849998\n",
              "1212     60.650002\n",
              "1213     61.849998\n",
              "1214     61.700001\n",
              "1215     60.099998\n",
              "Name: Close, Length: 1216, dtype: float64"
            ]
          },
          "metadata": {},
          "execution_count": 48
        }
      ],
      "source": [
        "df1"
      ]
    },
    {
      "cell_type": "code",
      "execution_count": 49,
      "metadata": {
        "colab": {
          "base_uri": "https://localhost:8080/",
          "height": 283
        },
        "id": "euqWMGoJFvMx",
        "outputId": "1ce65ba5-f679-4088-b2f5-1209c50a7af8"
      },
      "outputs": [
        {
          "output_type": "execute_result",
          "data": {
            "text/plain": [
              "[<matplotlib.lines.Line2D at 0x7f2aa577bb50>]"
            ]
          },
          "metadata": {},
          "execution_count": 49
        },
        {
          "output_type": "display_data",
          "data": {
            "image/png": "[encoded data removed]",
            "text/plain": [
              "<Figure size 432x288 with 1 Axes>"
            ]
          },
          "metadata": {
            "needs_background": "light"
          }
        }
      ],
      "source": [
        "import matplotlib.pyplot as plt\n",
        "plt.plot(df1)"
      ]
    },
    {
      "cell_type": "code",
      "execution_count": 50,
      "metadata": {
        "id": "BcJ8EJPQFvMz"
      },
      "outputs": [],
      "source": [
        "### LSTM are sensitive to the scale of the data. so we apply MinMax scaler "
      ]
    },
    {
      "cell_type": "code",
      "execution_count": 51,
      "metadata": {
        "id": "CoXrmadaFvM1"
      },
      "outputs": [],
      "source": [
        "import numpy as np"
      ]
    },
    {
      "cell_type": "code",
      "execution_count": 52,
      "metadata": {
        "colab": {
          "base_uri": "https://localhost:8080/"
        },
        "id": "R35zLsOeFvM2",
        "outputId": "876a8a7b-a292-4ff4-d4f7-3349c65d3aef"
      },
      "outputs": [
        {
          "output_type": "execute_result",
          "data": {
            "text/plain": [
              "0       103.066666\n",
              "1       102.866669\n",
              "2       102.300003\n",
              "3       101.866669\n",
              "4       108.300003\n",
              "           ...    \n",
              "1211     63.849998\n",
              "1212     60.650002\n",
              "1213     61.849998\n",
              "1214     61.700001\n",
              "1215     60.099998\n",
              "Name: Close, Length: 1216, dtype: float64"
            ]
          },
          "metadata": {},
          "execution_count": 52
        }
      ],
      "source": [
        "df1"
      ]
    },
    {
      "cell_type": "code",
      "execution_count": 53,
      "metadata": {
        "id": "_IDT7MLSFvM5"
      },
      "outputs": [],
      "source": [
        "from sklearn.preprocessing import MinMaxScaler\n",
        "scaler=MinMaxScaler(feature_range=(0,1))\n",
        "df1=scaler.fit_transform(np.array(df1).reshape(-1,1))"
      ]
    },
    {
      "cell_type": "code",
      "execution_count": 54,
      "metadata": {
        "colab": {
          "base_uri": "https://localhost:8080/"
        },
        "id": "Aou4Am8nFvM6",
        "outputId": "37b372c8-334b-4228-a1a8-e174fc028c37"
      },
      "outputs": [
        {
          "output_type": "stream",
          "name": "stdout",
          "text": [
            "[[0.83592832]\n",
            " [0.83391931]\n",
            " [0.82822704]\n",
            " ...\n",
            " [0.42189852]\n",
            " [0.42039176]\n",
            " [0.40431941]]\n"
          ]
        }
      ],
      "source": [
        "print(df1)"
      ]
    },
    {
      "cell_type": "code",
      "execution_count": 55,
      "metadata": {
        "id": "JWmtem9fFvNA"
      },
      "outputs": [],
      "source": [
        "##splitting dataset into train and test split\n",
        "training_size=int(len(df1)*0.65)\n",
        "test_size=len(df1)-training_size\n",
        "train_data,test_data=df1[0:training_size,:],df1[training_size:len(df1),:1]"
      ]
    },
    {
      "cell_type": "code",
      "execution_count": 56,
      "metadata": {
        "colab": {
          "base_uri": "https://localhost:8080/"
        },
        "id": "vpdUvnLUFvNC",
        "outputId": "2e5c5802-2577-4430-82c7-c4a51174b868"
      },
      "outputs": [
        {
          "output_type": "execute_result",
          "data": {
            "text/plain": [
              "(790, 426)"
            ]
          },
          "metadata": {},
          "execution_count": 56
        }
      ],
      "source": [
        "training_size,test_size"
      ]
    },
    {
      "cell_type": "code",
      "execution_count": 57,
      "metadata": {
        "id": "qDbfy16WFvNI"
      },
      "outputs": [],
      "source": [
        "import numpy\n",
        "# convert an array of values into a dataset matrix\n",
        "def create_dataset(dataset, time_step=1):\n",
        "\tdataX, dataY = [], []\n",
        "\tfor i in range(len(dataset)-time_step-1):\n",
        "\t\ta = dataset[i:(i+time_step), 0]   ###i=0, 0,1,2,3-----99   100 \n",
        "\t\tdataX.append(a)\n",
        "\t\tdataY.append(dataset[i + time_step, 0])\n",
        "\treturn numpy.array(dataX), numpy.array(dataY)"
      ]
    },
    {
      "cell_type": "code",
      "execution_count": 58,
      "metadata": {
        "id": "NHsH2YjYFvNK"
      },
      "outputs": [],
      "source": [
        "# reshape into X=t,t+1,t+2,t+3 and Y=t+4\n",
        "time_step = 100\n",
        "X_train, y_train = create_dataset(train_data, time_step)\n",
        "X_test, ytest = create_dataset(test_data, time_step)"
      ]
    },
    {
      "cell_type": "code",
      "execution_count": 59,
      "metadata": {
        "colab": {
          "base_uri": "https://localhost:8080/"
        },
        "id": "nCaqmFcwFvNL",
        "outputId": "c8cff9bb-108d-4600-aec8-d2726a898d91"
      },
      "outputs": [
        {
          "output_type": "stream",
          "name": "stdout",
          "text": [
            "(689, 100)\n",
            "(689,)\n"
          ]
        },
        {
          "output_type": "execute_result",
          "data": {
            "text/plain": [
              "(None, None)"
            ]
          },
          "metadata": {},
          "execution_count": 59
        }
      ],
      "source": [
        "print(X_train.shape), print(y_train.shape)"
      ]
    },
    {
      "cell_type": "code",
      "execution_count": 60,
      "metadata": {
        "colab": {
          "base_uri": "https://localhost:8080/"
        },
        "id": "Vy_qyHNbFvNO",
        "outputId": "9500784e-8f88-4f11-a293-f0c3194e1260"
      },
      "outputs": [
        {
          "output_type": "stream",
          "name": "stdout",
          "text": [
            "(325, 100)\n",
            "(325,)\n"
          ]
        },
        {
          "output_type": "execute_result",
          "data": {
            "text/plain": [
              "(None, None)"
            ]
          },
          "metadata": {},
          "execution_count": 60
        }
      ],
      "source": [
        "print(X_test.shape), print(ytest.shape)"
      ]
    },
    {
      "cell_type": "code",
      "execution_count": 61,
      "metadata": {
        "id": "q9fJMdFmFvNP"
      },
      "outputs": [],
      "source": [
        "# reshape input to be [samples, time steps, features] which is required for LSTM\n",
        "X_train =X_train.reshape(X_train.shape[0],X_train.shape[1] , 1)\n",
        "X_test = X_test.reshape(X_test.shape[0],X_test.shape[1] , 1)"
      ]
    },
    {
      "cell_type": "code",
      "execution_count": 62,
      "metadata": {
        "id": "BTnGDRoqFvNS"
      },
      "outputs": [],
      "source": [
        "### Create the Stacked LSTM model\n",
        "from tensorflow.keras.models import Sequential\n",
        "from tensorflow.keras.layers import Dense\n",
        "from tensorflow.keras.layers import LSTM"
      ]
    },
    {
      "cell_type": "code",
      "execution_count": 63,
      "metadata": {
        "id": "ZS-BqAQ_FvNT"
      },
      "outputs": [],
      "source": [
        "model=Sequential()\n",
        "model.add(LSTM(50,return_sequences=True,input_shape=(100,1)))\n",
        "model.add(LSTM(50,return_sequences=True))\n",
        "model.add(LSTM(50))\n",
        "model.add(Dense(1))\n",
        "model.compile(loss='mean_squared_error',optimizer='adam')"
      ]
    },
    {
      "cell_type": "code",
      "execution_count": 64,
      "metadata": {
        "colab": {
          "base_uri": "https://localhost:8080/"
        },
        "id": "I_OQ8WK0FvNU",
        "outputId": "8dc8b51a-4516-4933-fb16-8db57a0e7b25"
      },
      "outputs": [
        {
          "output_type": "stream",
          "name": "stdout",
          "text": [
            "Model: \"sequential_1\"\n",
            "_________________________________________________________________\n",
            " Layer (type)                Output Shape              Param #   \n",
            "=================================================================\n",
            " lstm_3 (LSTM)               (None, 100, 50)           10400     \n",
            "                                                                 \n",
            " lstm_4 (LSTM)               (None, 100, 50)           20200     \n",
            "                                                                 \n",
            " lstm_5 (LSTM)               (None, 50)                20200     \n",
            "                                                                 \n",
            " dense_1 (Dense)             (None, 1)                 51        \n",
            "                                                                 \n",
            "=================================================================\n",
            "Total params: 50,851\n",
            "Trainable params: 50,851\n",
            "Non-trainable params: 0\n",
            "_________________________________________________________________\n"
          ]
        }
      ],
      "source": [
        "model.summary()"
      ]
    },
    {
      "cell_type": "code",
      "execution_count": 65,
      "metadata": {
        "colab": {
          "base_uri": "https://localhost:8080/"
        },
        "id": "plNQWWJDFvNW",
        "outputId": "1c92cb43-eb3d-4b4a-8da2-8bf65f7770bf"
      },
      "outputs": [
        {
          "output_type": "stream",
          "name": "stdout",
          "text": [
            "Epoch 1/100\n",
            "11/11 [==============================] - 9s 337ms/step - loss: 0.0723 - val_loss: 0.0053\n",
            "Epoch 2/100\n",
            "11/11 [==============================] - 2s 222ms/step - loss: 0.0137 - val_loss: 0.0119\n",
            "Epoch 3/100\n",
            "11/11 [==============================] - 2s 222ms/step - loss: 0.0077 - val_loss: 0.0038\n",
            "Epoch 4/100\n",
            "11/11 [==============================] - 2s 214ms/step - loss: 0.0045 - val_loss: 0.0034\n",
            "Epoch 5/100\n",
            "11/11 [==============================] - 2s 211ms/step - loss: 0.0032 - val_loss: 0.0033\n",
            "Epoch 6/100\n",
            "11/11 [==============================] - 2s 215ms/step - loss: 0.0025 - val_loss: 0.0035\n",
            "Epoch 7/100\n",
            "11/11 [==============================] - 2s 214ms/step - loss: 0.0022 - val_loss: 0.0043\n",
            "Epoch 8/100\n",
            "11/11 [==============================] - 2s 219ms/step - loss: 0.0021 - val_loss: 0.0044\n",
            "Epoch 9/100\n",
            "11/11 [==============================] - 2s 215ms/step - loss: 0.0022 - val_loss: 0.0044\n",
            "Epoch 10/100\n",
            "11/11 [==============================] - 2s 216ms/step - loss: 0.0022 - val_loss: 0.0040\n",
            "Epoch 11/100\n",
            "11/11 [==============================] - 2s 216ms/step - loss: 0.0022 - val_loss: 0.0038\n",
            "Epoch 12/100\n",
            "11/11 [==============================] - 2s 214ms/step - loss: 0.0021 - val_loss: 0.0038\n",
            "Epoch 13/100\n",
            "11/11 [==============================] - 2s 219ms/step - loss: 0.0021 - val_loss: 0.0037\n",
            "Epoch 14/100\n",
            "11/11 [==============================] - 2s 213ms/step - loss: 0.0020 - val_loss: 0.0036\n",
            "Epoch 15/100\n",
            "11/11 [==============================] - 2s 221ms/step - loss: 0.0020 - val_loss: 0.0035\n",
            "Epoch 16/100\n",
            "11/11 [==============================] - 2s 220ms/step - loss: 0.0020 - val_loss: 0.0033\n",
            "Epoch 17/100\n",
            "11/11 [==============================] - 2s 215ms/step - loss: 0.0020 - val_loss: 0.0036\n",
            "Epoch 18/100\n",
            "11/11 [==============================] - 2s 215ms/step - loss: 0.0019 - val_loss: 0.0034\n",
            "Epoch 19/100\n",
            "11/11 [==============================] - 2s 214ms/step - loss: 0.0019 - val_loss: 0.0033\n",
            "Epoch 20/100\n",
            "11/11 [==============================] - 2s 214ms/step - loss: 0.0019 - val_loss: 0.0032\n",
            "Epoch 21/100\n",
            "11/11 [==============================] - 2s 213ms/step - loss: 0.0018 - val_loss: 0.0033\n",
            "Epoch 22/100\n",
            "11/11 [==============================] - 2s 210ms/step - loss: 0.0018 - val_loss: 0.0030\n",
            "Epoch 23/100\n",
            "11/11 [==============================] - 2s 213ms/step - loss: 0.0018 - val_loss: 0.0029\n",
            "Epoch 24/100\n",
            "11/11 [==============================] - 2s 218ms/step - loss: 0.0018 - val_loss: 0.0029\n",
            "Epoch 25/100\n",
            "11/11 [==============================] - 2s 213ms/step - loss: 0.0018 - val_loss: 0.0031\n",
            "Epoch 26/100\n",
            "11/11 [==============================] - 2s 215ms/step - loss: 0.0017 - val_loss: 0.0027\n",
            "Epoch 27/100\n",
            "11/11 [==============================] - 2s 213ms/step - loss: 0.0017 - val_loss: 0.0026\n",
            "Epoch 28/100\n",
            "11/11 [==============================] - 2s 212ms/step - loss: 0.0018 - val_loss: 0.0032\n",
            "Epoch 29/100\n",
            "11/11 [==============================] - 2s 217ms/step - loss: 0.0017 - val_loss: 0.0024\n",
            "Epoch 30/100\n",
            "11/11 [==============================] - 2s 213ms/step - loss: 0.0018 - val_loss: 0.0028\n",
            "Epoch 31/100\n",
            "11/11 [==============================] - 2s 213ms/step - loss: 0.0016 - val_loss: 0.0024\n",
            "Epoch 32/100\n",
            "11/11 [==============================] - 2s 220ms/step - loss: 0.0015 - val_loss: 0.0025\n",
            "Epoch 33/100\n",
            "11/11 [==============================] - 2s 214ms/step - loss: 0.0015 - val_loss: 0.0026\n",
            "Epoch 34/100\n",
            "11/11 [==============================] - 2s 216ms/step - loss: 0.0016 - val_loss: 0.0022\n",
            "Epoch 35/100\n",
            "11/11 [==============================] - 2s 215ms/step - loss: 0.0016 - val_loss: 0.0023\n",
            "Epoch 36/100\n",
            "11/11 [==============================] - 2s 214ms/step - loss: 0.0014 - val_loss: 0.0022\n",
            "Epoch 37/100\n",
            "11/11 [==============================] - 2s 216ms/step - loss: 0.0014 - val_loss: 0.0021\n",
            "Epoch 38/100\n",
            "11/11 [==============================] - 2s 217ms/step - loss: 0.0013 - val_loss: 0.0021\n",
            "Epoch 39/100\n",
            "11/11 [==============================] - 2s 213ms/step - loss: 0.0014 - val_loss: 0.0020\n",
            "Epoch 40/100\n",
            "11/11 [==============================] - 2s 218ms/step - loss: 0.0013 - val_loss: 0.0020\n",
            "Epoch 41/100\n",
            "11/11 [==============================] - 2s 217ms/step - loss: 0.0013 - val_loss: 0.0022\n",
            "Epoch 42/100\n",
            "11/11 [==============================] - 2s 222ms/step - loss: 0.0012 - val_loss: 0.0018\n",
            "Epoch 43/100\n",
            "11/11 [==============================] - 2s 214ms/step - loss: 0.0013 - val_loss: 0.0020\n",
            "Epoch 44/100\n",
            "11/11 [==============================] - 2s 221ms/step - loss: 0.0012 - val_loss: 0.0018\n",
            "Epoch 45/100\n",
            "11/11 [==============================] - 2s 217ms/step - loss: 0.0012 - val_loss: 0.0020\n",
            "Epoch 46/100\n",
            "11/11 [==============================] - 2s 214ms/step - loss: 0.0013 - val_loss: 0.0017\n",
            "Epoch 47/100\n",
            "11/11 [==============================] - 2s 221ms/step - loss: 0.0014 - val_loss: 0.0017\n",
            "Epoch 48/100\n",
            "11/11 [==============================] - 2s 215ms/step - loss: 0.0015 - val_loss: 0.0022\n",
            "Epoch 49/100\n",
            "11/11 [==============================] - 2s 218ms/step - loss: 0.0015 - val_loss: 0.0017\n",
            "Epoch 50/100\n",
            "11/11 [==============================] - 2s 220ms/step - loss: 0.0012 - val_loss: 0.0019\n",
            "Epoch 51/100\n",
            "11/11 [==============================] - 2s 222ms/step - loss: 0.0011 - val_loss: 0.0018\n",
            "Epoch 52/100\n",
            "11/11 [==============================] - 2s 218ms/step - loss: 0.0011 - val_loss: 0.0016\n",
            "Epoch 53/100\n",
            "11/11 [==============================] - 2s 215ms/step - loss: 0.0011 - val_loss: 0.0017\n",
            "Epoch 54/100\n",
            "11/11 [==============================] - 2s 215ms/step - loss: 0.0011 - val_loss: 0.0015\n",
            "Epoch 55/100\n",
            "11/11 [==============================] - 2s 219ms/step - loss: 0.0011 - val_loss: 0.0019\n",
            "Epoch 56/100\n",
            "11/11 [==============================] - 2s 216ms/step - loss: 0.0012 - val_loss: 0.0015\n",
            "Epoch 57/100\n",
            "11/11 [==============================] - 2s 216ms/step - loss: 0.0010 - val_loss: 0.0019\n",
            "Epoch 58/100\n",
            "11/11 [==============================] - 2s 225ms/step - loss: 0.0012 - val_loss: 0.0015\n",
            "Epoch 59/100\n",
            "11/11 [==============================] - 2s 217ms/step - loss: 0.0011 - val_loss: 0.0016\n",
            "Epoch 60/100\n",
            "11/11 [==============================] - 2s 225ms/step - loss: 0.0012 - val_loss: 0.0015\n",
            "Epoch 61/100\n",
            "11/11 [==============================] - 2s 219ms/step - loss: 0.0010 - val_loss: 0.0015\n",
            "Epoch 62/100\n",
            "11/11 [==============================] - 2s 219ms/step - loss: 9.7137e-04 - val_loss: 0.0014\n",
            "Epoch 63/100\n",
            "11/11 [==============================] - 2s 213ms/step - loss: 9.6357e-04 - val_loss: 0.0015\n",
            "Epoch 64/100\n",
            "11/11 [==============================] - 2s 218ms/step - loss: 9.3646e-04 - val_loss: 0.0015\n",
            "Epoch 65/100\n",
            "11/11 [==============================] - 2s 213ms/step - loss: 9.0206e-04 - val_loss: 0.0013\n",
            "Epoch 66/100\n",
            "11/11 [==============================] - 2s 219ms/step - loss: 9.3899e-04 - val_loss: 0.0013\n",
            "Epoch 67/100\n",
            "11/11 [==============================] - 2s 218ms/step - loss: 8.8338e-04 - val_loss: 0.0014\n",
            "Epoch 68/100\n",
            "11/11 [==============================] - 2s 216ms/step - loss: 8.8592e-04 - val_loss: 0.0013\n",
            "Epoch 69/100\n",
            "11/11 [==============================] - 2s 218ms/step - loss: 8.4679e-04 - val_loss: 0.0015\n",
            "Epoch 70/100\n",
            "11/11 [==============================] - 2s 213ms/step - loss: 9.1576e-04 - val_loss: 0.0013\n",
            "Epoch 71/100\n",
            "11/11 [==============================] - 2s 218ms/step - loss: 8.5461e-04 - val_loss: 0.0012\n",
            "Epoch 72/100\n",
            "11/11 [==============================] - 2s 219ms/step - loss: 8.4966e-04 - val_loss: 0.0012\n",
            "Epoch 73/100\n",
            "11/11 [==============================] - 2s 216ms/step - loss: 8.1599e-04 - val_loss: 0.0012\n",
            "Epoch 74/100\n",
            "11/11 [==============================] - 2s 215ms/step - loss: 8.7587e-04 - val_loss: 0.0012\n",
            "Epoch 75/100\n",
            "11/11 [==============================] - 2s 214ms/step - loss: 9.1867e-04 - val_loss: 0.0014\n",
            "Epoch 76/100\n",
            "11/11 [==============================] - 2s 213ms/step - loss: 8.8739e-04 - val_loss: 0.0013\n",
            "Epoch 77/100\n",
            "11/11 [==============================] - 2s 215ms/step - loss: 8.5813e-04 - val_loss: 0.0012\n",
            "Epoch 78/100\n",
            "11/11 [==============================] - 2s 211ms/step - loss: 8.2502e-04 - val_loss: 0.0011\n",
            "Epoch 79/100\n",
            "11/11 [==============================] - 2s 213ms/step - loss: 9.3121e-04 - val_loss: 0.0011\n",
            "Epoch 80/100\n",
            "11/11 [==============================] - 2s 219ms/step - loss: 8.4527e-04 - val_loss: 0.0014\n",
            "Epoch 81/100\n",
            "11/11 [==============================] - 2s 217ms/step - loss: 8.4552e-04 - val_loss: 0.0011\n",
            "Epoch 82/100\n",
            "11/11 [==============================] - 2s 219ms/step - loss: 8.1645e-04 - val_loss: 0.0011\n",
            "Epoch 83/100\n",
            "11/11 [==============================] - 2s 219ms/step - loss: 9.3391e-04 - val_loss: 0.0016\n",
            "Epoch 84/100\n",
            "11/11 [==============================] - 2s 218ms/step - loss: 8.1805e-04 - val_loss: 0.0010\n",
            "Epoch 85/100\n",
            "11/11 [==============================] - 2s 222ms/step - loss: 7.3301e-04 - val_loss: 0.0010\n",
            "Epoch 86/100\n",
            "11/11 [==============================] - 2s 214ms/step - loss: 7.3989e-04 - val_loss: 0.0011\n",
            "Epoch 87/100\n",
            "11/11 [==============================] - 2s 224ms/step - loss: 7.3131e-04 - val_loss: 0.0013\n",
            "Epoch 88/100\n",
            "11/11 [==============================] - 2s 218ms/step - loss: 7.2628e-04 - val_loss: 9.5616e-04\n",
            "Epoch 89/100\n",
            "11/11 [==============================] - 2s 217ms/step - loss: 6.7950e-04 - val_loss: 9.8604e-04\n",
            "Epoch 90/100\n",
            "11/11 [==============================] - 2s 215ms/step - loss: 6.8218e-04 - val_loss: 9.9098e-04\n",
            "Epoch 91/100\n",
            "11/11 [==============================] - 2s 219ms/step - loss: 6.8302e-04 - val_loss: 0.0011\n",
            "Epoch 92/100\n",
            "11/11 [==============================] - 2s 214ms/step - loss: 6.9554e-04 - val_loss: 9.1543e-04\n",
            "Epoch 93/100\n",
            "11/11 [==============================] - 2s 217ms/step - loss: 7.0852e-04 - val_loss: 8.7563e-04\n",
            "Epoch 94/100\n",
            "11/11 [==============================] - 2s 213ms/step - loss: 8.3112e-04 - val_loss: 9.1262e-04\n",
            "Epoch 95/100\n",
            "11/11 [==============================] - 2s 219ms/step - loss: 6.9332e-04 - val_loss: 8.9863e-04\n",
            "Epoch 96/100\n",
            "11/11 [==============================] - 2s 214ms/step - loss: 6.3037e-04 - val_loss: 0.0011\n",
            "Epoch 97/100\n",
            "11/11 [==============================] - 2s 217ms/step - loss: 6.8158e-04 - val_loss: 0.0011\n",
            "Epoch 98/100\n",
            "11/11 [==============================] - 2s 216ms/step - loss: 6.8187e-04 - val_loss: 0.0010\n",
            "Epoch 99/100\n",
            "11/11 [==============================] - 2s 215ms/step - loss: 6.2388e-04 - val_loss: 8.2269e-04\n",
            "Epoch 100/100\n",
            "11/11 [==============================] - 2s 215ms/step - loss: 5.8428e-04 - val_loss: 8.3115e-04\n"
          ]
        },
        {
          "output_type": "execute_result",
          "data": {
            "text/plain": [
              "<keras.callbacks.History at 0x7f2aa28ebd90>"
            ]
          },
          "metadata": {},
          "execution_count": 65
        }
      ],
      "source": [
        "model.fit(X_train,y_train,validation_data=(X_test,ytest),epochs=100,batch_size=64,verbose=1)"
      ]
    },
    {
      "cell_type": "code",
      "source": [
        "model.save('bhel.h5')"
      ],
      "metadata": {
        "id": "CFLxwsghFSyL"
      },
      "execution_count": 66,
      "outputs": []
    },
    {
      "cell_type": "code",
      "execution_count": 67,
      "metadata": {
        "id": "id0zci6TFvNX"
      },
      "outputs": [],
      "source": [
        "import tensorflow as tf\n",
        "from keras.models import load_model"
      ]
    },
    {
      "cell_type": "code",
      "execution_count": 68,
      "metadata": {
        "colab": {
          "base_uri": "https://localhost:8080/",
          "height": 36
        },
        "id": "zaIvAYD0FvNX",
        "outputId": "c68ba20b-d02a-4a92-974a-4e40acfca325"
      },
      "outputs": [
        {
          "output_type": "execute_result",
          "data": {
            "application/vnd.google.colaboratory.intrinsic+json": {
              "type": "string"
            },
            "text/plain": [
              "'2.7.0'"
            ]
          },
          "metadata": {},
          "execution_count": 68
        }
      ],
      "source": [
        "tf.__version__"
      ]
    },
    {
      "cell_type": "code",
      "execution_count": 69,
      "metadata": {
        "id": "keqv1ePlFvNX"
      },
      "outputs": [],
      "source": [
        "### Lets Do the prediction and check performance metrics\n",
        "train_predict=model.predict(X_train)\n",
        "test_predict=model.predict(X_test)"
      ]
    },
    {
      "cell_type": "code",
      "execution_count": 70,
      "metadata": {
        "id": "4eWiEPdGFvNZ"
      },
      "outputs": [],
      "source": [
        "##Transformback to original form\n",
        "train_predict=scaler.inverse_transform(train_predict)\n",
        "test_predict=scaler.inverse_transform(test_predict)"
      ]
    },
    {
      "cell_type": "code",
      "execution_count": 71,
      "metadata": {
        "colab": {
          "base_uri": "https://localhost:8080/"
        },
        "id": "eci9rcbhFvNa",
        "outputId": "035fa3f0-36fa-4dd5-d68d-63e9b252807b"
      },
      "outputs": [
        {
          "output_type": "execute_result",
          "data": {
            "text/plain": [
              "70.85615200104968"
            ]
          },
          "metadata": {},
          "execution_count": 71
        }
      ],
      "source": [
        "### Calculate RMSE performance metrics\n",
        "import math\n",
        "from sklearn.metrics import mean_squared_error\n",
        "math.sqrt(mean_squared_error(y_train,train_predict))"
      ]
    },
    {
      "cell_type": "code",
      "execution_count": 72,
      "metadata": {
        "colab": {
          "base_uri": "https://localhost:8080/"
        },
        "id": "q4Gm_NA7FvNb",
        "outputId": "bb87def2-61a5-4155-c6c4-00e6d65bf181"
      },
      "outputs": [
        {
          "output_type": "execute_result",
          "data": {
            "text/plain": [
              "53.37883246953249"
            ]
          },
          "metadata": {},
          "execution_count": 72
        }
      ],
      "source": [
        "### Test Data RMSE\n",
        "math.sqrt(mean_squared_error(ytest,test_predict))"
      ]
    },
    {
      "cell_type": "code",
      "execution_count": 73,
      "metadata": {
        "colab": {
          "base_uri": "https://localhost:8080/",
          "height": 265
        },
        "id": "xa2qcIF9FvNc",
        "outputId": "e3823eab-26ed-4d99-a550-aed4f0e9c38e"
      },
      "outputs": [
        {
          "output_type": "display_data",
          "data": {
            "image/png": "[encoded data removed]",
            "text/plain": [
              "<Figure size 432x288 with 1 Axes>"
            ]
          },
          "metadata": {
            "needs_background": "light"
          }
        }
      ],
      "source": [
        "### Plotting \n",
        "# shift train predictions for plotting\n",
        "look_back=100\n",
        "trainPredictPlot = numpy.empty_like(df1)\n",
        "trainPredictPlot[:, :] = np.nan\n",
        "trainPredictPlot[look_back:len(train_predict)+look_back, :] = train_predict\n",
        "# shift test predictions for plotting\n",
        "testPredictPlot = numpy.empty_like(df1)\n",
        "testPredictPlot[:, :] = numpy.nan\n",
        "testPredictPlot[len(train_predict)+(look_back*2)+1:len(df1)-1, :] = test_predict\n",
        "# plot baseline and predictions\n",
        "plt.plot(scaler.inverse_transform(df1))\n",
        "plt.plot(trainPredictPlot)\n",
        "plt.plot(testPredictPlot)\n",
        "plt.show()"
      ]
    },
    {
      "cell_type": "code",
      "execution_count": 74,
      "metadata": {
        "colab": {
          "base_uri": "https://localhost:8080/"
        },
        "id": "SWJ3P31IFvNc",
        "outputId": "f40bb78e-f125-4cb7-ef1e-7d3082fc218e"
      },
      "outputs": [
        {
          "output_type": "execute_result",
          "data": {
            "text/plain": [
              "426"
            ]
          },
          "metadata": {},
          "execution_count": 74
        }
      ],
      "source": [
        "len(test_data)"
      ]
    },
    {
      "cell_type": "code",
      "execution_count": 75,
      "metadata": {
        "colab": {
          "base_uri": "https://localhost:8080/"
        },
        "id": "5KtghOFmFvNe",
        "outputId": "e204bc07-9647-417c-e5eb-83d88ecd8244"
      },
      "outputs": [
        {
          "output_type": "execute_result",
          "data": {
            "text/plain": [
              "(1, 101)"
            ]
          },
          "metadata": {},
          "execution_count": 75
        }
      ],
      "source": [
        "x_input=test_data[325:].reshape(1,-1)\n",
        "x_input.shape\n"
      ]
    },
    {
      "cell_type": "code",
      "execution_count": 76,
      "metadata": {
        "id": "snuip5cqFvNm"
      },
      "outputs": [],
      "source": [
        "temp_input=list(x_input)\n",
        "temp_input=temp_input[0].tolist()"
      ]
    },
    {
      "cell_type": "code",
      "execution_count": 77,
      "metadata": {
        "id": "UKBlX1zbFvNq"
      },
      "outputs": [],
      "source": [
        "# demonstrate prediction for next 10 days\n",
        "from numpy import array\n",
        "\n",
        "lst_output=[]\n",
        "n_steps=100\n",
        "i=0\n",
        "while(i<30):\n",
        "    \n",
        "    if(len(temp_input)>100):\n",
        "        #print(temp_input)\n",
        "        x_input=np.array(temp_input[1:])\n",
        "        #print(\"{} day input {}\".format(i,x_input))\n",
        "        x_input=x_input.reshape(1,-1)\n",
        "        x_input = x_input.reshape((1, n_steps, 1))\n",
        "        #print(x_input)\n",
        "        yhat = model.predict(x_input, verbose=0)\n",
        "        #print(\"{} day output {}\".format(i,yhat))\n",
        "        temp_input.extend(yhat[0].tolist())\n",
        "        temp_input=temp_input[1:]\n",
        "        #print(temp_input)\n",
        "        lst_output.extend(yhat.tolist())\n",
        "        i=i+1\n",
        "    else:\n",
        "        x_input = x_input.reshape((1, n_steps,1))\n",
        "        yhat = model.predict(x_input, verbose=0)\n",
        "        #print(yhat[0])\n",
        "        temp_input.extend(yhat[0].tolist())\n",
        "        #print(len(temp_input))\n",
        "        lst_output.extend(yhat.tolist())\n",
        "        i=i+1"
      ]
    },
    {
      "cell_type": "code",
      "execution_count": 78,
      "metadata": {
        "id": "OKveL-xHFvNr"
      },
      "outputs": [],
      "source": [
        "day_new=np.arange(1,101)\n",
        "day_pred=np.arange(101,131)"
      ]
    },
    {
      "cell_type": "code",
      "execution_count": 79,
      "metadata": {
        "id": "gDPip5DoFvNr"
      },
      "outputs": [],
      "source": [
        "import matplotlib.pyplot as plt"
      ]
    },
    {
      "cell_type": "code",
      "execution_count": 80,
      "metadata": {
        "colab": {
          "base_uri": "https://localhost:8080/"
        },
        "id": "zQp12toFFvNt",
        "outputId": "03039c59-7872-4c46-ab8b-d96b15464abc"
      },
      "outputs": [
        {
          "output_type": "execute_result",
          "data": {
            "text/plain": [
              "1216"
            ]
          },
          "metadata": {},
          "execution_count": 80
        }
      ],
      "source": [
        "len(df1)"
      ]
    },
    {
      "cell_type": "code",
      "execution_count": 81,
      "metadata": {
        "colab": {
          "base_uri": "https://localhost:8080/",
          "height": 283
        },
        "id": "MoVuXDDvFvNv",
        "outputId": "cc97a22a-d5db-4c39-9f6c-a16d2697bc5f"
      },
      "outputs": [
        {
          "output_type": "execute_result",
          "data": {
            "text/plain": [
              "[<matplotlib.lines.Line2D at 0x7f2aa5da33d0>]"
            ]
          },
          "metadata": {},
          "execution_count": 81
        },
        {
          "output_type": "display_data",
          "data": {
            "image/png": "[encoded data removed]",
            "text/plain": [
              "<Figure size 432x288 with 1 Axes>"
            ]
          },
          "metadata": {
            "needs_background": "light"
          }
        }
      ],
      "source": [
        "plt.plot(day_new,scaler.inverse_transform(df1[1116:]))\n",
        "plt.plot(day_pred,scaler.inverse_transform(lst_output))"
      ]
    },
    {
      "cell_type": "code",
      "execution_count": 82,
      "metadata": {
        "colab": {
          "base_uri": "https://localhost:8080/",
          "height": 283
        },
        "id": "De2KNUH0FvNv",
        "outputId": "51f4df63-9d1e-4c26-f010-1981a5b3377e"
      },
      "outputs": [
        {
          "output_type": "execute_result",
          "data": {
            "text/plain": [
              "[<matplotlib.lines.Line2D at 0x7f2aa4568cd0>]"
            ]
          },
          "metadata": {},
          "execution_count": 82
        },
        {
          "output_type": "display_data",
          "data": {
            "image/png": "[encoded data removed]",
            "text/plain": [
              "<Figure size 432x288 with 1 Axes>"
            ]
          },
          "metadata": {
            "needs_background": "light"
          }
        }
      ],
      "source": [
        "df3=df1.tolist()\n",
        "df3.extend(lst_output)\n",
        "plt.plot(df3[1200:])"
      ]
    },
    {
      "cell_type": "code",
      "execution_count": 83,
      "metadata": {
        "id": "2xzlXx_zFvN0"
      },
      "outputs": [],
      "source": [
        "df3=scaler.inverse_transform(df3).tolist()"
      ]
    },
    {
      "cell_type": "code",
      "execution_count": 84,
      "metadata": {
        "colab": {
          "base_uri": "https://localhost:8080/",
          "height": 283
        },
        "id": "g4ImozN0FvN3",
        "outputId": "e53acbc3-47be-4fe0-bab7-73c31075a188"
      },
      "outputs": [
        {
          "output_type": "execute_result",
          "data": {
            "text/plain": [
              "[<matplotlib.lines.Line2D at 0x7f2aa290b4d0>]"
            ]
          },
          "metadata": {},
          "execution_count": 84
        },
        {
          "output_type": "display_data",
          "data": {
            "image/png": "[encoded data removed]",
            "text/plain": [
              "<Figure size 432x288 with 1 Axes>"
            ]
          },
          "metadata": {
            "needs_background": "light"
          }
        }
      ],
      "source": [
        "plt.plot(df3)"
      ]
    },
    {
      "cell_type": "code",
      "source": [
        "def predict(stockName):\n",
        "  df=pd.read_csv(stockName + '.csv')\n",
        "  df.head()\n",
        "\n",
        "  df1 = df.reset_index()['Close']\n",
        "\n",
        "  model = load_model(stockName + '.h5')\n",
        "\n",
        "  scaler=MinMaxScaler(feature_range=(0,1))\n",
        "  df1=scaler.fit_transform(np.array(df1).reshape(-1,1))\n",
        "\n",
        "  training_size=int(len(df1)*0.65)\n",
        "  test_size=len(df1)-training_size\n",
        "  train_data,test_data=df1[0:training_size,:],df1[training_size:len(df1),:1]\n",
        "\n",
        "  time_step = 100\n",
        "  X_train, y_train = create_dataset(train_data, time_step)\n",
        "  X_test, ytest = create_dataset(test_data, time_step)\n",
        "\n",
        "  X_train =X_train.reshape(X_train.shape[0],X_train.shape[1] , 1)\n",
        "  X_test = X_test.reshape(X_test.shape[0],X_test.shape[1] , 1)\n",
        "\n",
        "  train_predict=model.predict(X_train)\n",
        "  test_predict=model.predict(X_test)\n",
        "\n",
        "  train_predict=scaler.inverse_transform(train_predict)\n",
        "  test_predict=scaler.inverse_transform(test_predict)\n",
        "\n",
        "  testAccuracy = 100 - (math.sqrt(mean_squared_error(ytest,test_predict))/100)\n",
        "  trainAccuracy = 100 - (math.sqrt(mean_squared_error(y_train,train_predict))/100)\n",
        "\n",
        "  print (\"Train Accuracy = \", trainAccuracy, \"%\")\n",
        "  print (\"Test Accuracy = \", testAccuracy, \"%\\n\")\n",
        "\n",
        "  look_back=100\n",
        "  trainPredictPlot = np.empty_like(df1)\n",
        "  trainPredictPlot[:, :] = np.nan\n",
        "  trainPredictPlot[look_back:len(train_predict)+look_back, :] = train_predict\n",
        "  # shift test predictions for plotting\n",
        "  testPredictPlot = np.empty_like(df1)\n",
        "  testPredictPlot[:, :] = np.nan\n",
        "  testPredictPlot[len(train_predict)+(look_back*2)+1:len(df1)-1, :] = test_predict\n",
        "  # plot baseline and predictions\n",
        "  plt.plot(scaler.inverse_transform(df1), color = \"lightblue\", label = \"All Values\")\n",
        "  plt.plot(trainPredictPlot, color = \"darkgreen\", label = \"Train Predicted\")\n",
        "  plt.plot(testPredictPlot, color = \"orange\", label = \"Test Values\")\n",
        "  plt.xlabel(\"Days\")\n",
        "  plt.ylabel(\"Cost of share (in INR)\")\n",
        "  plt.legend()\n",
        "  plt.show()\n",
        "\n",
        "  x_input=test_data[325:].reshape(1,-1)\n",
        "  x_input.shape\n",
        "\n",
        "  temp_input=list(x_input)\n",
        "  temp_input=temp_input[0].tolist()\n",
        "\n",
        "  lst_output=[]\n",
        "  n_steps=100\n",
        "  i=0\n",
        "  while(i<30):\n",
        "      \n",
        "      if(len(temp_input)>100):\n",
        "          #print(temp_input)\n",
        "          x_input=np.array(temp_input[1:])\n",
        "          #print(\"{} day input {}\".format(i,x_input))\n",
        "          x_input=x_input.reshape(1,-1)\n",
        "          x_input = x_input.reshape((1, n_steps, 1))\n",
        "          #print(x_input)\n",
        "          yhat = model.predict(x_input, verbose=0)\n",
        "          #print(\"{} day output {}\".format(i,yhat))\n",
        "          temp_input.extend(yhat[0].tolist())\n",
        "          temp_input=temp_input[1:]\n",
        "          #print(temp_input)\n",
        "          lst_output.extend(yhat.tolist())\n",
        "          i=i+1\n",
        "      else:\n",
        "          x_input = x_input.reshape((1, n_steps,1))\n",
        "          yhat = model.predict(x_input, verbose=0)\n",
        "          #print(yhat[0])\n",
        "          temp_input.extend(yhat[0].tolist())\n",
        "          #print(len(temp_input))\n",
        "          lst_output.extend(yhat.tolist())\n",
        "          i=i+1\n",
        "\n",
        "  day_new=np.arange(1,101)\n",
        "  day_pred=np.arange(101,131)\n",
        "\n",
        "  print(\"\\n\")\n",
        "  plt.plot(day_new,scaler.inverse_transform(df1[1116:]), label = \"last 100 days\")\n",
        "  plt.plot(day_pred,scaler.inverse_transform(lst_output), label = \"predicted 30 days\")\n",
        "  plt.xlabel(\"Days\")\n",
        "  plt.ylabel(\"Cost of share (in INR)\")\n",
        "  plt.legend()"
      ],
      "metadata": {
        "id": "N3mMuK3wafdg"
      },
      "execution_count": 85,
      "outputs": []
    },
    {
      "cell_type": "code",
      "source": [
        "predict(\"bhel\")"
      ],
      "metadata": {
        "colab": {
          "base_uri": "https://localhost:8080/",
          "height": 633
        },
        "id": "Q4H_zMuuaktz",
        "outputId": "42611a3b-59a9-4981-9431-44e61b1665ce"
      },
      "execution_count": 86,
      "outputs": [
        {
          "output_type": "stream",
          "name": "stdout",
          "text": [
            "Train Accuracy =  99.29143847998951 %\n",
            "Test Accuracy =  99.46621167530468 %\n",
            "\n"
          ]
        },
        {
          "output_type": "display_data",
          "data": {
            "image/png": "[encoded data removed]",
            "text/plain": [
              "<Figure size 432x288 with 1 Axes>"
            ]
          },
          "metadata": {
            "needs_background": "light"
          }
        },
        {
          "output_type": "stream",
          "name": "stdout",
          "text": [
            "\n",
            "\n"
          ]
        },
        {
          "output_type": "display_data",
          "data": {
            "image/png": "[encoded data removed]",
            "text/plain": [
              "<Figure size 432x288 with 1 Axes>"
            ]
          },
          "metadata": {
            "needs_background": "light"
          }
        }
      ]
    }
  ],
  "metadata": {
    "kernelspec": {
      "display_name": "Python 3",
      "language": "python",
      "name": "python3"
    },
    "language_info": {
      "codemirror_mode": {
        "name": "ipython",
        "version": 3
      },
      "file_extension": ".py",
      "mimetype": "text/x-python",
      "name": "python",
      "nbconvert_exporter": "python",
      "pygments_lexer": "ipython3",
      "version": "3.6.9"
    },
    "colab": {
      "name": "LSTM - Final.ipynb",
      "provenance": [],
      "collapsed_sections": []
    },
    "accelerator": "TPU"
  },
  "nbformat": 4,
  "nbformat_minor": 0
}