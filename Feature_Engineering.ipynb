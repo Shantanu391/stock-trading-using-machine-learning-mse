{
  "nbformat": 4,
  "nbformat_minor": 0,
  "metadata": {
    "colab": {
      "name": "Feature Engineering.ipynb",
      "private_outputs": true,
      "provenance": []
    },
    "kernelspec": {
      "name": "python3",
      "display_name": "Python 3"
    },
    "language_info": {
      "name": "python"
    }
  },
  "cells": [
    {
      "cell_type": "code",
      "metadata": {
        "id": "jH50Bo4cCim-"
      },
      "source": [
        "!pip install pandas_datareader --upgrade\n",
        "!git clone https://github.com/pranjal0207/stock-trading-using-machine-learning.git"
      ],
      "execution_count": null,
      "outputs": []
    },
    {
      "cell_type": "code",
      "metadata": {
        "id": "3FBlIe-u-CEx"
      },
      "source": [
        "import pandas_datareader as pdr\n",
        "import os\n",
        "import numpy as np\n",
        "import pandas as pd\n",
        "import matplotlib.pyplot as plt\n",
        "import seaborn as sns\n",
        "import warnings\n",
        "from importlib import reload\n",
        "from feature_engineering_helper import ma7, ma21, macd, bollinger_bands, momentum"
      ],
      "execution_count": null,
      "outputs": []
    },
    {
      "cell_type": "code",
      "metadata": {
        "id": "YL7U5QgHH5Fg"
      },
      "source": [
        "stock_list = [\"RELIANCE.NS\", \"TCS.NS\", \"ICICIBANK.NS\", \"WIPRO.NS\", \"INFY.NS\", \"TRIDENT.NS\", \"BHEL.NS\", \"ULTRACEMCO.NS\", \"SBIN.NS\", \"TATAMOTORS.NS\"]"
      ],
      "execution_count": null,
      "outputs": []
    },
    {
      "cell_type": "code",
      "metadata": {
        "id": "62vLKKbXBYe4"
      },
      "source": [
        "for stock in stock_list:\n",
        "  stock_df = pdr.get_data_yahoo(stock)\n",
        "  stock_df.to_csv('raw_stocks/' + stock.lower().split(\".\")[0] + '.csv')"
      ],
      "execution_count": null,
      "outputs": []
    },
    {
      "cell_type": "code",
      "metadata": {
        "id": "8WIT_TTIC2TU"
      },
      "source": [
        "df = pd.read_csv('raw_stocks/' + stock_list[1].lower().split(\".\")[0] + '.csv')\n",
        "df.head()"
      ],
      "execution_count": null,
      "outputs": []
    },
    {
      "cell_type": "code",
      "metadata": {
        "id": "Z9mYqQCeDBe8"
      },
      "source": [
        "df.describe()"
      ],
      "execution_count": null,
      "outputs": []
    },
    {
      "cell_type": "code",
      "metadata": {
        "id": "aX-qxx4DDJlk"
      },
      "source": [
        "print('No missing data') if sum(stock_df.isna().sum()) == 0 else stock_df.isna().sum()"
      ],
      "execution_count": null,
      "outputs": []
    },
    {
      "cell_type": "code",
      "metadata": {
        "id": "b_Kuaj5MDRgb"
      },
      "source": [
        "files = os.listdir('raw_stocks')\n",
        "stocks = {}\n",
        "for file in files:\n",
        "    if(file == \".ipynb_checkpoints\"):\n",
        "      continue\n",
        "    name = file.lower().split('.')[0]\n",
        "    stocks[name] = pd.read_csv('raw_stocks/' + file, engine='python')    \n",
        "    \n",
        "    # Return Feature\n",
        "    stocks[name]['Return'] = round(stocks[name]['Close'] / stocks[name]['Open'] - 1, 3)\n",
        "    # Change Feature\n",
        "    # Change of the price from previous day, absolute value\n",
        "    stocks[name]['Change'] = (stocks[name].Close - stocks[name].Close.shift(1)).fillna(0)\n",
        "    # Date Feature\n",
        "    stocks[name]['Date'] = pd.to_datetime(stocks[name]['Date'])\n",
        "    stocks[name].set_index('Date', inplace=True)\n",
        "    # Volatility Feature\n",
        "    stocks[name]['Volatility'] = stocks[name].Close.ewm(21).std()\n",
        "    # Moving Average, 7 days\n",
        "    stocks[name]['MA7'] = ma7(stocks[name])\n",
        "    # Moving Average, 21 days\n",
        "    stocks[name]['MA21'] = ma21(stocks[name])\n",
        "    # Momentum\n",
        "    stocks[name]['Momentum'] = momentum(stocks[name].Close, 3)\n",
        "    # RSI (Relative Strength Index)\n",
        "    #stocks[name]['RSI'] = rsi(stocks[name])\n",
        "    # MACD - (Moving Average Convergence/Divergence)\n",
        "    stocks[name]['MACD'], stocks[name]['Signal'] = macd(stocks[name])\n",
        "    # Upper Band and Lower Band for Bollinger Bands\n",
        "    stocks[name]['Upper_band'], stocks[name]['Lower_band'] = bollinger_bands(stocks[name])\n",
        "    stocks[name].dropna(inplace=True)\n",
        "    # Saving\n",
        "    stocks[name].to_csv('stocks/'+name+'.csv')"
      ],
      "execution_count": null,
      "outputs": []
    }
  ]
}